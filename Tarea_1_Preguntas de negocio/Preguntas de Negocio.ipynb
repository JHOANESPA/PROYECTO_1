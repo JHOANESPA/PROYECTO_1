{
 "cells": [
  {
   "cell_type": "markdown",
   "id": "19203101",
   "metadata": {},
   "source": [
    "## Tarea 1 – Preguntas de negocio\n",
    "\n",
    "El análisis preliminar permitió entender e identificar oportunidades de mejora relacionadas con la efectividad de los asesores, la distribución de cargas entre áreas y la gestión proactiva de incidentes críticos.  \n",
    "Con base en ello, el equipo planteó la necesidad de comprender **qué factores están influyendo en el incumplimiento del Service Level Agreement (SLA)**, ya que este indicador refleja directamente la **percepción del usuario**, aspecto clave para su permanencia y, por tanto, **para los ingresos de la organización**.\n",
    "\n",
    "---\n",
    "\n",
    "### Razonamiento inicial\n",
    "\n",
    "Para llegar a la pregunta central se realizó una revisión conceptual del proceso de atención de incidentes y se propusieron hipótesis sobre posibles factores que podrían afectar el cumplimiento del SLA. Algunas de las relaciones exploradas fueron:\n",
    "\n",
    "- **Tiempo de resolución:** ¿Los incidentes con mayor duración tienden a incumplir el SLA?  \n",
    "- **Cantidad de reasignaciones:** ¿El hecho de que un incidente pase por muchos grupos o analistas afecta negativamente el cumplimiento?  \n",
    "- **Prioridad asignada por la empresa:** ¿Las prioridades más bajas tienen mayor probabilidad de incumplimiento por ser atendidas después?  \n",
    "- **Urgencia informada por el usuario:** ¿La urgencia declarada por el usuario se refleja en una atención más rápida que ayude a cumplir el SLA?  \n",
    "- **Uso de base de conocimiento:** ¿El uso de artículos de conocimiento por parte de los agentes influye en el tiempo y cumplimiento del SLA?  \n",
    "\n",
    "Estas hipótesis guiaron la selección de variables a analizar y el diseño de los modelos predictivos.\n",
    "\n",
    "---\n",
    "\n",
    "### Pregunta Guía\n",
    "- **¿Cuáles son las causas principales que llevan a que un incidente supere el SLA establecido?**\n",
    "\n",
    "---\n",
    "\n",
    "### Pregunta central a responder al usuario\n",
    "- **¿Con qué probabilidad, en determinadas condiciones, un incidente puede incumplir el SLA?**  \n",
    "\n",
    "---\n",
    "\n",
    "### Preguntas derivadas\n",
    "- **¿Qué variables operativas tienen mayor influencia sobre el cumplimiento del SLA?**  \n",
    "- **¿Cómo se distribuye el incumplimiento del SLA entre las distintas áreas y tipos de incidentes?**\n"
   ]
  }
 ],
 "metadata": {
  "language_info": {
   "name": "python"
  }
 },
 "nbformat": 4,
 "nbformat_minor": 5
}

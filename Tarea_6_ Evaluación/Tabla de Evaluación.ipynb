{
 "cells": [
  {
   "cell_type": "markdown",
   "id": "9f857acd",
   "metadata": {},
   "source": [
    "## 📝 Evaluación del Producto\n",
    "\n",
    "| Criterio evaluado                              | Evidencia disponible                             | Cumple (Sí/No) | Observaciones breves                                |\n",
    "|-----------------------------------------------|--------------------------------------------------|---------------|-----------------------------------------------------|\n",
    "| Responde a las preguntas de negocio            | El tablero permite identificar causas del incumplimiento del SLA | ✅ Sí | Muestra variables clave que explican el resultado   |\n",
    "| Coherencia con hallazgos del análisis descriptivo | Los gráficos reflejan los patrones detectados en el EDA           | ✅ Sí | Insights coinciden con lo observado en los datos    |\n",
    "| Integración correcta del modelo predictivo     | El tablero predice la probabilidad de romper el SLA con el modelo 3 | ✅ Sí | Modelo entrenado e integrado correctamente          |\n",
    "| Claridad y usabilidad de las visualizaciones   | Interfaz clara, intuitiva y comprensible                          | ✅ Sí | Diseño pensado para el usuario final                |\n",
    "| Valor para la toma de decisiones               | Permite anticipar riesgos de incumplimiento                        | ✅ Sí | Apoya decisiones preventivas y correctivas           |\n"
   ]
  }
 ],
 "metadata": {
  "language_info": {
   "name": "python"
  }
 },
 "nbformat": 4,
 "nbformat_minor": 5
}
